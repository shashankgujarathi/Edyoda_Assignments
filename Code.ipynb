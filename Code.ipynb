{
 "cells": [
  {
   "cell_type": "code",
   "execution_count": 1,
   "metadata": {},
   "outputs": [
    {
     "name": "stdout",
     "output_type": "stream",
     "text": [
      "[(3, 7), (4, 6)]\n"
     ]
    }
   ],
   "source": [
    "#Q1. Write a program to find all pairs of an integer array whose sum is equal to a given number?\n",
    "\n",
    "def find_pairs_with_sum(arr, target_sum):\n",
    "    arr.sort()  \n",
    "    pairs = []\n",
    "    left = 0\n",
    "    right = len(arr) - 1\n",
    "\n",
    "    while left < right:\n",
    "        current_sum = arr[left] + arr[right]\n",
    "\n",
    "        if current_sum == target_sum:\n",
    "            pairs.append((arr[left], arr[right]))\n",
    "            left += 1\n",
    "            right -= 1\n",
    "        elif current_sum < target_sum:\n",
    "            left += 1\n",
    "        else:\n",
    "            right -= 1\n",
    "\n",
    "    return pairs\n",
    "\n",
    "arr = [1, 2, 3, 4, 5, 6, 7]\n",
    "target_sum = 10\n",
    "result = find_pairs_with_sum(arr, target_sum)\n",
    "\n",
    "if result:\n",
    "    print(result)\n",
    "else:\n",
    "    print(\"No pairs found\")\n"
   ]
  },
  {
   "cell_type": "code",
   "execution_count": 2,
   "metadata": {},
   "outputs": [
    {
     "name": "stdout",
     "output_type": "stream",
     "text": [
      "Original Array: [1, 2, 3, 4, 5]\n",
      "Reversed Array: [5, 4, 3, 2, 1]\n"
     ]
    }
   ],
   "source": [
    "#Q2. Write a program to reverse an array in place? In place means you cannot create a new array. You have to update the original array.\n",
    "def reverse_array_in_place(arr):\n",
    "    left, right = 0, len(arr) - 1\n",
    "\n",
    "    while left < right:\n",
    "        arr[left], arr[right] = arr[right], arr[left]\n",
    "        left += 1\n",
    "        right -= 1\n",
    "\n",
    "arr = [1, 2, 3, 4, 5]\n",
    "print(\"Original Array:\", arr)\n",
    "reverse_array_in_place(arr)\n",
    "print(\"Reversed Array:\", arr)\n"
   ]
  },
  {
   "cell_type": "code",
   "execution_count": 3,
   "metadata": {},
   "outputs": [
    {
     "name": "stdout",
     "output_type": "stream",
     "text": [
      "abcde and cdeab are rotations of each other.\n"
     ]
    }
   ],
   "source": [
    "#Q3. Write a program to check if two strings are a rotation of each other?\n",
    "def are_rotations(str1, str2):\n",
    "    if len(str1) != len(str2):\n",
    "        return False\n",
    "    \n",
    "    doubled_str1 = str1 + str1\n",
    "\n",
    "    if str2 in doubled_str1:\n",
    "        return True\n",
    "    else:\n",
    "        return False\n",
    "\n",
    "string1 = \"abcde\"\n",
    "string2 = \"cdeab\"\n",
    "\n",
    "if are_rotations(string1, string2):\n",
    "    print(f\"{string1} and {string2} are rotations of each other.\")\n",
    "else:\n",
    "    print(f\"{string1} and {string2} are not rotations of each other.\")\n"
   ]
  },
  {
   "cell_type": "code",
   "execution_count": 4,
   "metadata": {},
   "outputs": [
    {
     "name": "stdout",
     "output_type": "stream",
     "text": [
      "The first non-repeated character is: d\n"
     ]
    }
   ],
   "source": [
    "#Q4. Write a program to print the first non-repeated character from a string?\n",
    "def first_non_repeated_char(input_str):\n",
    "    char_count = {}\n",
    "\n",
    "    for char in input_str:\n",
    "        if input_str.count(char)==1:\n",
    "            return char\n",
    "\n",
    "    return None\n",
    "\n",
    "input_string = \"aabbccdeeff\"\n",
    "result = first_non_repeated_char(input_string)\n",
    "\n",
    "if result is not None:\n",
    "    print(f\"The first non-repeated character is: {result}\")\n",
    "else:\n",
    "    print(\"No non-repeated character found in the string.\")\n"
   ]
  },
  {
   "cell_type": "code",
   "execution_count": 9,
   "metadata": {},
   "outputs": [
    {
     "name": "stdout",
     "output_type": "stream",
     "text": [
      "Move a disk from A to C\n",
      "Move a disk from A to B\n",
      "Move a disk from B to C\n",
      "Move a disk from A to C\n",
      "Move a disk from A to B\n",
      "Move a disk from B to C\n",
      "Move a disk from A to C\n"
     ]
    }
   ],
   "source": [
    "#Q5. Read about the Tower of Hanoi algorithm. Write a program to implement it.\n",
    "def tower_of_hanoi(num_disks, source_peg, auxiliary_peg, target_peg):\n",
    "    if num_disks % 2 == 0:\n",
    "        auxiliary_peg, target_peg = target_peg, auxiliary_peg\n",
    "\n",
    "    total_moves = 2**num_disks - 1\n",
    "\n",
    "    for move in range(1, total_moves + 1):\n",
    "        if move % 3 == 1:\n",
    "            move_disk(source_peg, target_peg)\n",
    "        elif move % 3 == 2:\n",
    "            move_disk(source_peg, auxiliary_peg)\n",
    "        else:\n",
    "            move_disk(auxiliary_peg, target_peg)\n",
    "\n",
    "\n",
    "def move_disk(source, target):\n",
    "    print(f\"Move a disk from {source} to {target}\")\n",
    "\n",
    "num_disks = 3\n",
    "tower_of_hanoi(num_disks, 'A', 'B', 'C')\n"
   ]
  },
  {
   "cell_type": "code",
   "execution_count": 10,
   "metadata": {},
   "outputs": [
    {
     "name": "stdout",
     "output_type": "stream",
     "text": [
      "Postfix Expression: 3 4 + 5 *\n",
      "Prefix Expression: * + 3 4 5\n"
     ]
    }
   ],
   "source": [
    "#Q6. Read about infix, prefix, and postfix expressions. Write a program to convert postfix to prefix expression.\n",
    "def postfix_to_prefix(postfix_expression):\n",
    "    stack = []\n",
    "    operators = set(['+', '-', '*', '/', '^'])\n",
    "\n",
    "    for token in postfix_expression.split():\n",
    "        if token not in operators:\n",
    "            stack.append(token)\n",
    "        else:\n",
    "            operand2 = stack.pop()\n",
    "            operand1 = stack.pop()\n",
    "            prefix_expression = f\"{token} {operand1} {operand2}\"\n",
    "            stack.append(prefix_expression)\n",
    "\n",
    "    return stack[0]\n",
    "\n",
    "postfix_expr = \"3 4 + 5 *\"\n",
    "prefix_expr = postfix_to_prefix(postfix_expr)\n",
    "print(\"Postfix Expression:\", postfix_expr)\n",
    "print(\"Prefix Expression:\", prefix_expr)\n"
   ]
  },
  {
   "cell_type": "code",
   "execution_count": 11,
   "metadata": {},
   "outputs": [
    {
     "name": "stdout",
     "output_type": "stream",
     "text": [
      "Prefix Expression: *+345\n",
      "Infix Expression: ((3+4)*5)\n"
     ]
    }
   ],
   "source": [
    "#Q7. Write a program to convert prefix expression to infix expression.\n",
    "def is_operator(char):\n",
    "    return char in \"+-*/^\"\n",
    "\n",
    "\n",
    "def prefix_to_infix(prefix_expression):\n",
    "    stack = []\n",
    "    operators = set(['+', '-', '*', '/', '^'])\n",
    "\n",
    "    prefix_expression = prefix_expression[::-1]\n",
    "\n",
    "    for token in prefix_expression:\n",
    "        if not is_operator(token):\n",
    "            stack.append(token)\n",
    "        else:\n",
    "            operand1 = stack.pop()\n",
    "            operand2 = stack.pop()\n",
    "            infix_expression = f\"({operand1}{token}{operand2})\"\n",
    "            stack.append(infix_expression)\n",
    "\n",
    "    return stack[0]\n",
    "\n",
    "prefix_expr = \"*+345\"\n",
    "infix_expr = prefix_to_infix(prefix_expr)\n",
    "print(\"Prefix Expression:\", prefix_expr)\n",
    "print(\"Infix Expression:\", infix_expr)\n"
   ]
  },
  {
   "cell_type": "code",
   "execution_count": 13,
   "metadata": {},
   "outputs": [
    {
     "name": "stdout",
     "output_type": "stream",
     "text": [
      "All brackets are balanced in the code snippet.\n"
     ]
    }
   ],
   "source": [
    "#Q8. Write a program to check if all the brackets are closed in a given code snippet.\n",
    "def are_brackets_balanced(code):\n",
    "    stack = []\n",
    "    bracket_pairs = {')': '(', '}': '{', ']': '['}\n",
    "\n",
    "    for char in code:\n",
    "        if char in \"({[\":\n",
    "            stack.append(char)\n",
    "        elif char in \")}]\":\n",
    "            if not stack or stack[-1] != bracket_pairs[char]:\n",
    "                return False\n",
    "            stack.pop()\n",
    "\n",
    "    return len(stack) == 0\n",
    "\n",
    "code_snippet ='''\n",
    "def is_valid_expression(expr):\n",
    "    if (expr[0] == '(') and (expr[-1] == ')'):\n",
    "        return True\n",
    "    else:\n",
    "        return False\n",
    "'''\n",
    "if are_brackets_balanced(code_snippet):\n",
    "    print(\"All brackets are balanced in the code snippet.\")\n",
    "else:\n",
    "    print(\"Brackets are not balanced in the code snippet.\")\n"
   ]
  },
  {
   "cell_type": "code",
   "execution_count": 16,
   "metadata": {},
   "outputs": [
    {
     "name": "stdout",
     "output_type": "stream",
     "text": [
      "Original Stack: [1, 2, 3, 4, 5]\n",
      "Reversed Stack: [5, 4, 3, 2, 1]\n"
     ]
    }
   ],
   "source": [
    "#Q9. Write a program to reverse a stack.\n",
    "class Stack:\n",
    "    def __init__(self):\n",
    "        self.items = []\n",
    "\n",
    "    def is_empty(self):\n",
    "        return len(self.items) == 0\n",
    "\n",
    "    def push(self, item):\n",
    "        self.items.append(item)\n",
    "\n",
    "    def pop(self):\n",
    "        if not self.is_empty():\n",
    "            return self.items.pop()\n",
    "\n",
    "    def peek(self):\n",
    "        if not self.is_empty():\n",
    "            return self.items[-1]\n",
    "\n",
    "    def size(self):\n",
    "        return len(self.items)\n",
    "\n",
    "\n",
    "def reverse_stack(stack):\n",
    "    if not stack.is_empty():\n",
    "        item = stack.pop()\n",
    "        reverse_stack(stack)\n",
    "        insert_at_bottom(stack, item)\n",
    "\n",
    "\n",
    "def insert_at_bottom(stack, item):\n",
    "    if stack.is_empty():\n",
    "        stack.push(item)\n",
    "    else:\n",
    "        temp = stack.pop()\n",
    "        insert_at_bottom(stack, item)\n",
    "        stack.push(temp)\n",
    "\n",
    "stack = Stack()\n",
    "stack.push(1)\n",
    "stack.push(2)\n",
    "stack.push(3)\n",
    "stack.push(4)\n",
    "stack.push(5)\n",
    "\n",
    "print(\"Original Stack:\", stack.items)\n",
    "\n",
    "reverse_stack(stack)\n",
    "\n",
    "print(\"Reversed Stack:\", stack.items)\n"
   ]
  },
  {
   "cell_type": "code",
   "execution_count": 17,
   "metadata": {},
   "outputs": [
    {
     "name": "stdout",
     "output_type": "stream",
     "text": [
      "Smallest number: 2\n"
     ]
    }
   ],
   "source": [
    "#Q10. Write a program to find the smallest number using a stack.\n",
    "class Stack:\n",
    "    def __init__(self):\n",
    "        self.items = []\n",
    "\n",
    "    def is_empty(self):\n",
    "        return len(self.items) == 0\n",
    "\n",
    "    def push(self, item):\n",
    "        self.items.append(item)\n",
    "\n",
    "    def pop(self):\n",
    "        if not self.is_empty():\n",
    "            return self.items.pop()\n",
    "\n",
    "    def peek(self):\n",
    "        if not self.is_empty():\n",
    "            return self.items[-1]\n",
    "\n",
    "    def size(self):\n",
    "        return len(self.items)\n",
    "\n",
    "\n",
    "class MinStack:\n",
    "    def __init__(self):\n",
    "        self.main_stack = Stack()\n",
    "        self.min_stack = Stack()\n",
    "\n",
    "    def push(self, item):\n",
    "        self.main_stack.push(item)\n",
    "        if self.min_stack.is_empty() or item <= self.min_stack.peek():\n",
    "            self.min_stack.push(item)\n",
    "\n",
    "    def pop(self):\n",
    "        if not self.main_stack.is_empty():\n",
    "            item = self.main_stack.pop()\n",
    "            if item == self.min_stack.peek():\n",
    "                self.min_stack.pop()\n",
    "\n",
    "    def get_min(self):\n",
    "        if not self.min_stack.is_empty():\n",
    "            return self.min_stack.peek()\n",
    "        else:\n",
    "            return None\n",
    "\n",
    "min_stack = MinStack()\n",
    "min_stack.push(5)\n",
    "min_stack.push(3)\n",
    "min_stack.push(7)\n",
    "min_stack.push(2)\n",
    "\n",
    "print(\"Smallest number:\", min_stack.get_min())\n"
   ]
  }
 ],
 "metadata": {
  "kernelspec": {
   "display_name": "Python 3",
   "language": "python",
   "name": "python3"
  },
  "language_info": {
   "codemirror_mode": {
    "name": "ipython",
    "version": 3
   },
   "file_extension": ".py",
   "mimetype": "text/x-python",
   "name": "python",
   "nbconvert_exporter": "python",
   "pygments_lexer": "ipython3",
   "version": "3.10.10"
  },
  "orig_nbformat": 4
 },
 "nbformat": 4,
 "nbformat_minor": 2
}
