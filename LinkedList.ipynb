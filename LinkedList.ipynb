{
 "cells": [
  {
   "cell_type": "code",
   "execution_count": 5,
   "metadata": {},
   "outputs": [
    {
     "name": "stdout",
     "output_type": "stream",
     "text": [
      "Original Linked List:\n",
      "1 -> 2 -> -3 -> 3 -> 1 -> None\n",
      "Linked List after deleting zero sum sublists:\n",
      "1 -> 2 -> 1 -> None\n"
     ]
    }
   ],
   "source": [
    "#Q1-Delete the elements in an linked list whose sum is equal to zero\n",
    "class ListNode:\n",
    "    def __init__(self, value):\n",
    "        self.value = value\n",
    "        self.next = None\n",
    "\n",
    "def delete_zero_sum_sublists(head):\n",
    "    dummy = ListNode(0)\n",
    "    dummy.next = head\n",
    "    sum_map = {}\n",
    "    curr = dummy\n",
    "    running_sum = 0\n",
    "\n",
    "    while curr:\n",
    "        running_sum += curr.value\n",
    "        if running_sum in sum_map:\n",
    "            temp_sum = running_sum + curr.next.value\n",
    "            while temp_sum != running_sum:\n",
    "                removed_node = sum_map.pop(temp_sum)\n",
    "                removed_node = removed_node.next\n",
    "                temp_sum += removed_node.value\n",
    "        else:\n",
    "            sum_map[running_sum] = curr\n",
    "        curr = curr.next\n",
    "    curr = dummy\n",
    "    running_sum = 0\n",
    "    while curr:\n",
    "        running_sum += curr.value\n",
    "        curr.next = sum_map[running_sum].next if running_sum in sum_map else curr.next\n",
    "        curr = curr.next\n",
    "\n",
    "    return dummy.next\n",
    "\n",
    "def print_linked_list(head):\n",
    "    curr = head\n",
    "    while curr:\n",
    "        print(curr.value, end=\" -> \")\n",
    "        curr = curr.next\n",
    "    print(\"None\")\n",
    "    \n",
    "head = ListNode(1)\n",
    "head.next = ListNode(2)\n",
    "head.next.next = ListNode(-3)\n",
    "head.next.next.next = ListNode(3)\n",
    "head.next.next.next.next = ListNode(1)\n",
    "\n",
    "print(\"Original Linked List:\")\n",
    "print_linked_list(head)\n",
    "\n",
    "head = delete_zero_sum_sublists(head)\n",
    "\n",
    "print(\"Linked List after deleting zero sum sublists:\")\n",
    "print_linked_list(head)\n"
   ]
  },
  {
   "cell_type": "code",
   "execution_count": 9,
   "metadata": {},
   "outputs": [
    {
     "name": "stdout",
     "output_type": "stream",
     "text": [
      "Original Linked List:\n",
      "1 -> 2 -> 3 -> 4 -> 5 -> 6 -> 7 -> 8 -> None\n",
      "Linked List after reversing in groups of 3:\n",
      "3 -> 2 -> 1 -> 6 -> 5 -> 4 -> 7 -> 8 -> None\n"
     ]
    }
   ],
   "source": [
    "#Q2-Reverse a linked list in groups of given size\n",
    "class ListNode:\n",
    "    def __init__(self, value):\n",
    "        self.value = value\n",
    "        self.next = None\n",
    "\n",
    "def reverse_k_group(head, k):\n",
    "    def reverse_sublist(head, k):\n",
    "        prev = None\n",
    "        current = head\n",
    "        count = 0\n",
    "\n",
    "        while current and count < k:\n",
    "            next_node = current.next\n",
    "            current.next = prev\n",
    "            prev = current\n",
    "            current = next_node\n",
    "            count += 1\n",
    "\n",
    "        return prev, current\n",
    "\n",
    "    count = 0\n",
    "    current = head\n",
    "\n",
    "    while current:\n",
    "        current = current.next\n",
    "        count += 1\n",
    "\n",
    "    if count < k:\n",
    "        return head\n",
    "\n",
    "    new_head, remaining_head = reverse_sublist(head, k)\n",
    "\n",
    "    head.next = reverse_k_group(remaining_head, k)\n",
    "\n",
    "    return new_head\n",
    "\n",
    "def print_linked_list(head):\n",
    "    curr = head\n",
    "    while curr:\n",
    "        print(curr.value, end=\" -> \")\n",
    "        curr = curr.next\n",
    "    print(\"None\")\n",
    "\n",
    "head = ListNode(1)\n",
    "current = head\n",
    "for i in range(2, 9):\n",
    "    current.next = ListNode(i)\n",
    "    current = current.next\n",
    "\n",
    "print(\"Original Linked List:\")\n",
    "print_linked_list(head)\n",
    "\n",
    "k = 3\n",
    "head = reverse_k_group(head, k)\n",
    "\n",
    "print(f\"Linked List after reversing in groups of {k}:\")\n",
    "print_linked_list(head)\n"
   ]
  },
  {
   "cell_type": "code",
   "execution_count": 10,
   "metadata": {},
   "outputs": [
    {
     "name": "stdout",
     "output_type": "stream",
     "text": [
      "Original Linked List 1:\n",
      "1 -> 2 -> 3 -> None\n",
      "Original Linked List 2:\n",
      "A -> B -> C -> D -> None\n",
      "Merged Linked List:\n",
      "1 -> A -> 2 -> B -> 3 -> C -> None\n"
     ]
    }
   ],
   "source": [
    "#Q3-Merge a linked list into another linked list at alternate positions.\n",
    "class ListNode:\n",
    "    def __init__(self, value):\n",
    "        self.value = value\n",
    "        self.next = None\n",
    "\n",
    "\n",
    "def merge_alternate_positions(list1, list2):\n",
    "    if not list1:\n",
    "        return list2\n",
    "    if not list2:\n",
    "        return list1\n",
    "\n",
    "    current1 = list1\n",
    "    current2 = list2\n",
    "\n",
    "    while current1 and current2:\n",
    "        next1 = current1.next\n",
    "        next2 = current2.next\n",
    "\n",
    "        # Insert current2 after current1\n",
    "        current1.next = current2\n",
    "        current2.next = next1\n",
    "\n",
    "        current1 = next1\n",
    "        current2 = next2\n",
    "\n",
    "    return list1\n",
    "\n",
    "def print_linked_list(head):\n",
    "    curr = head\n",
    "    while curr:\n",
    "        print(curr.value, end=\" -> \")\n",
    "        curr = curr.next\n",
    "    print(\"None\")\n",
    "\n",
    "list1 = ListNode(1)\n",
    "list1.next = ListNode(2)\n",
    "list1.next.next = ListNode(3)\n",
    "\n",
    "list2 = ListNode('A')\n",
    "list2.next = ListNode('B')\n",
    "list2.next.next = ListNode('C')\n",
    "list2.next.next.next = ListNode('D')\n",
    "\n",
    "print(\"Original Linked List 1:\")\n",
    "print_linked_list(list1)\n",
    "\n",
    "print(\"Original Linked List 2:\")\n",
    "print_linked_list(list2)\n",
    "\n",
    "merged_head = merge_alternate_positions(list1, list2)\n",
    "\n",
    "print(\"Merged Linked List:\")\n",
    "print_linked_list(merged_head)\n"
   ]
  },
  {
   "cell_type": "code",
   "execution_count": 12,
   "metadata": {},
   "outputs": [
    {
     "name": "stdout",
     "output_type": "stream",
     "text": [
      "Pairs with sum 7 : 3\n"
     ]
    }
   ],
   "source": [
    "#Q4-In an array, Count Pairs with given sum\n",
    "def count_pairs_with_sum(arr, target_sum):\n",
    "    num_freq = {}\n",
    "    count = 0  \n",
    "    for num in arr:\n",
    "        complement = target_sum - num\n",
    "        if complement in num_freq:\n",
    "            count += num_freq[complement]\n",
    "\n",
    "        if num in num_freq:\n",
    "            num_freq[num] += 1\n",
    "        else:\n",
    "            num_freq[num] = 1\n",
    "    return count\n",
    "\n",
    "arr = [1, 2, 3, 4, 5, 6]\n",
    "target_sum = 7\n",
    "result = count_pairs_with_sum(arr, target_sum)\n",
    "print(\"Pairs with sum\", target_sum, \":\", result)\n"
   ]
  },
  {
   "cell_type": "code",
   "execution_count": 13,
   "metadata": {},
   "outputs": [
    {
     "name": "stdout",
     "output_type": "stream",
     "text": [
      "Duplicates in the array: [2, 4, 6]\n"
     ]
    }
   ],
   "source": [
    "#Q5-Find duplicates in an array\n",
    "def find_duplicates(nums):\n",
    "    num_freq = {}\n",
    "    duplicates = []\n",
    "\n",
    "    for num in nums:\n",
    "        if num in num_freq:\n",
    "            num_freq[num] += 1\n",
    "        else:\n",
    "            num_freq[num] = 1\n",
    "\n",
    "    for num, freq in num_freq.items():\n",
    "        if freq > 1:\n",
    "            duplicates.append(num)\n",
    "\n",
    "    return duplicates\n",
    "\n",
    "nums = [1, 2, 2, 3, 4, 4, 5, 6, 6]\n",
    "duplicates = find_duplicates(nums)\n",
    "print(\"Duplicates in the array:\", duplicates)\n"
   ]
  },
  {
   "cell_type": "code",
   "execution_count": 15,
   "metadata": {},
   "outputs": [
    {
     "name": "stdout",
     "output_type": "stream",
     "text": [
      "Kth largest Number is 5, kth smallest number is 3 \n"
     ]
    }
   ],
   "source": [
    "#Q6-Find the Kth largest and Kth smallest number in an array\n",
    "def find_kth_smallest_largest_sort(arr, k):\n",
    "    arr=list(set(arr))\n",
    "    arr.sort()\n",
    "\n",
    "    kthSmallestNumber = arr[k-1]\n",
    "    kthLargestNUmber = arr[len(arr)-k]\n",
    "    return kthSmallestNumber,kthLargestNUmber\n",
    "\n",
    "\n",
    "arr = [3, 1, 4, 1, 5, 9, 2, 6, 5]\n",
    "k=3\n",
    "kthsmallestnumber , kthlargestnumber = find_kth_smallest_largest_sort(arr,k)\n",
    "print(f'Kth largest Number is {kthlargestnumber}, kth smallest number is {kthsmallestnumber} ')"
   ]
  },
  {
   "cell_type": "code",
   "execution_count": 16,
   "metadata": {},
   "outputs": [
    {
     "name": "stdout",
     "output_type": "stream",
     "text": [
      "Array with negative elements moved to one side: [-1, -7, -3, -5, 4, 6, 2, 8]\n"
     ]
    }
   ],
   "source": [
    "#Q7-Move all the negative elements to one side of the array\n",
    "def move_negatives_to_one_side(arr):\n",
    "    left = 0\n",
    "    right = len(arr) - 1\n",
    "    while left <= right:\n",
    "        while arr[left] < 0:\n",
    "            left += 1\n",
    "        while arr[right] >= 0:\n",
    "            right -= 1\n",
    "        if left <= right:\n",
    "            arr[left], arr[right] = arr[right], arr[left]\n",
    "            left += 1\n",
    "            right -= 1\n",
    "    return arr\n",
    "\n",
    "arr = [-1, 2, -3, 4, -5, 6, -7, 8]\n",
    "result = move_negatives_to_one_side(arr)\n",
    "print(\"Array with negative elements moved to one side:\", result)\n"
   ]
  },
  {
   "cell_type": "code",
   "execution_count": 19,
   "metadata": {},
   "outputs": [
    {
     "name": "stdout",
     "output_type": "stream",
     "text": [
      "Original String: Hello, World!\n",
      "Reversed String: !dlroW ,olleH\n"
     ]
    }
   ],
   "source": [
    "#Q8-Reverse a string using a stack data structure\n",
    "def reverse_string(input_str):\n",
    "    stack = []\n",
    "    for char in input_str:\n",
    "        stack.append(char)\n",
    "    reversed_str = \"\"\n",
    "    while stack:\n",
    "        reversed_str += stack.pop()\n",
    "    return reversed_str\n",
    "\n",
    "input_str = \"Hello, World!\"\n",
    "reversed_str = reverse_string(input_str)\n",
    "print(\"Original String:\", input_str)\n",
    "print(\"Reversed String:\", reversed_str)\n"
   ]
  },
  {
   "cell_type": "code",
   "execution_count": 20,
   "metadata": {},
   "outputs": [
    {
     "name": "stdout",
     "output_type": "stream",
     "text": [
      "Result of postfix expression: 11\n"
     ]
    }
   ],
   "source": [
    "#Q9-Evaluate a postfix expression using stack\n",
    "def evaluate_postfix(expression):\n",
    "    stack = []\n",
    "    def perform_operation(op, operand1, operand2):\n",
    "        if op == '+':\n",
    "            return operand2 + operand1\n",
    "        elif op == '-':\n",
    "            return operand2 - operand1\n",
    "        elif op == '*':\n",
    "            return operand2 * operand1\n",
    "        elif op == '/':\n",
    "            if operand1 == 0:\n",
    "                raise ValueError(\"Division by zero\")\n",
    "            return operand2 / operand1\n",
    "    for token in expression:\n",
    "        if token.isdigit():\n",
    "            stack.append(int(token))  # Operand, push onto the stack\n",
    "        elif token in '+-*/':\n",
    "            if len(stack) < 2:\n",
    "                raise ValueError(\"Insufficient operands for operator\")\n",
    "\n",
    "            operand1 = stack.pop()\n",
    "            operand2 = stack.pop()\n",
    "            result = perform_operation(token, operand1, operand2)\n",
    "            stack.append(result)  # Push the result back onto the stack\n",
    "    if len(stack) != 1:\n",
    "        raise ValueError(\"Invalid postfix expression\")\n",
    "\n",
    "    return stack[0]\n",
    "\n",
    "postfix_expression = \"23*5+\"\n",
    "result = evaluate_postfix(postfix_expression)\n",
    "print(\"Result of postfix expression:\", result)\n"
   ]
  },
  {
   "cell_type": "code",
   "execution_count": 22,
   "metadata": {},
   "outputs": [
    {
     "name": "stdout",
     "output_type": "stream",
     "text": [
      "Queue size: 3\n",
      "Front of the queue: 1\n",
      "Dequeue: 1\n",
      "Dequeue: 2\n",
      "Is empty? False\n",
      "Dequeue: 3\n",
      "Front of the queue: 4\n",
      "Dequeue: 4\n",
      "Is empty? False\n"
     ]
    }
   ],
   "source": [
    "#Q10-Implement a queue using the stack data structure\n",
    "class QueueUsingStacks:\n",
    "    def __init__(self):\n",
    "        self.enqueue_stack = []  # Stack for enqueueing\n",
    "        self.dequeue_stack = []  # Stack for dequeuing\n",
    "\n",
    "    def enqueue(self, item):\n",
    "        self.enqueue_stack.append(item)\n",
    "\n",
    "    def dequeue(self):\n",
    "        if not self.dequeue_stack:\n",
    "            if not self.enqueue_stack:\n",
    "                raise IndexError(\"Queue is empty\")\n",
    "            while self.enqueue_stack:\n",
    "                self.dequeue_stack.append(self.enqueue_stack.pop())\n",
    "        return self.dequeue_stack.pop()\n",
    "\n",
    "    def is_empty(self):\n",
    "        return not (self.enqueue_stack or self.dequeue_stack)\n",
    "\n",
    "    def size(self):\n",
    "        return len(self.enqueue_stack) + len(self.dequeue_stack)\n",
    "\n",
    "    def peek(self):\n",
    "        if not self.dequeue_stack:\n",
    "            if not self.enqueue_stack:\n",
    "                raise IndexError(\"Queue is empty\")\n",
    "            while self.enqueue_stack:\n",
    "                self.dequeue_stack.append(self.enqueue_stack.pop())\n",
    "        return self.dequeue_stack[-1] if self.dequeue_stack else None\n",
    "\n",
    "queue = QueueUsingStacks()\n",
    "\n",
    "queue.enqueue(1)\n",
    "queue.enqueue(2)\n",
    "queue.enqueue(3)\n",
    "\n",
    "print(\"Queue size:\", queue.size())\n",
    "print(\"Front of the queue:\", queue.peek())\n",
    "\n",
    "print(\"Dequeue:\", queue.dequeue())\n",
    "print(\"Dequeue:\", queue.dequeue())\n",
    "\n",
    "queue.enqueue(4)\n",
    "queue.enqueue(5)\n",
    "\n",
    "print(\"Is empty?\", queue.is_empty())\n",
    "\n",
    "print(\"Dequeue:\", queue.dequeue())\n",
    "print(\"Front of the queue:\", queue.peek())\n",
    "print(\"Dequeue:\", queue.dequeue())\n",
    "\n",
    "print(\"Is empty?\", queue.is_empty())\n"
   ]
  }
 ],
 "metadata": {
  "kernelspec": {
   "display_name": "Python 3",
   "language": "python",
   "name": "python3"
  },
  "language_info": {
   "codemirror_mode": {
    "name": "ipython",
    "version": 3
   },
   "file_extension": ".py",
   "mimetype": "text/x-python",
   "name": "python",
   "nbconvert_exporter": "python",
   "pygments_lexer": "ipython3",
   "version": "3.7.9"
  }
 },
 "nbformat": 4,
 "nbformat_minor": 2
}
